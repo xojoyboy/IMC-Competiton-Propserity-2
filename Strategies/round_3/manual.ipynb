{
 "cells": [
  {
   "cell_type": "code",
   "execution_count": 1,
   "metadata": {},
   "outputs": [],
   "source": [
    "TREASURE = 7500\n",
    "EXP_TREASURE = 9000 # some might have 2"
   ]
  },
  {
   "cell_type": "code",
   "execution_count": 2,
   "metadata": {},
   "outputs": [
    {
     "data": {
      "text/plain": [
       "[('I26', 164250.0),\n",
       " ('I27', 160200.0),\n",
       " ('G27', 157500.0),\n",
       " ('H28', 156600.0),\n",
       " ('J28', 153000.0),\n",
       " ('J27', 149400.0),\n",
       " ('H27', 147600.0),\n",
       " ('H29', 144000.0),\n",
       " ('J29', 142200.0),\n",
       " ('H26', 141000.0),\n",
       " ('J26', 138600.0),\n",
       " ('G30', 135000.0),\n",
       " ('J30', 123750.0),\n",
       " ('G28', 123000.0),\n",
       " ('K28', 117000.0),\n",
       " ('I29', 115714.28571428571),\n",
       " ('I28', 112500.0),\n",
       " ('G26', 108000.0),\n",
       " ('H30', 105000.0),\n",
       " ('G29', 94500.0),\n",
       " ('K30', 90000.0),\n",
       " ('K27', 81000.0),\n",
       " ('I30', 76500.0),\n",
       " ('K29', 67500.0),\n",
       " ('K26', 54000.0)]"
      ]
     },
     "execution_count": 2,
     "metadata": {},
     "output_type": "execute_result"
    }
   ],
   "source": [
    "# List of the tiles with their corresponding multipliers and number of hunters\n",
    "tiles = {\n",
    "    \"G26\": (24, 2), \"G27\": (70, 4), \"G28\": (41, 3), \"G29\": (21, 2), \"G30\": (60, 4),\n",
    "    \"H26\": (47, 3), \"H27\": (82, 5), \"H28\": (87, 5), \"H29\": (80, 5), \"H30\": (35, 3), \n",
    "    \"I26\": (73, 4), \"I27\": (89, 5), \"I28\": (100, 8), \"I29\": (90, 7), \"I30\": (17, 2),\n",
    "    \"J26\": (77, 5), \"J27\": (83, 5), \"J28\": (85, 5), \"J29\": (79, 5), \"J30\": (55, 4), \n",
    "    \"K26\": (12, 2), \"K27\": (27, 3), \"K28\": (52, 4), \"K29\": (15, 2),  \"K30\": (30, 3)\n",
    "}\n",
    "\n",
    "# Calculate the per hunter reward for each tile\n",
    "per_hunter_rewards = {tile: (multiplier * EXP_TREASURE / hunters) for tile, (multiplier, hunters) in tiles.items()}\n",
    "# sort the tiles by the per hunter reward\n",
    "sorted_tiles = sorted(per_hunter_rewards.items(), key=lambda x: x[1], reverse=True)\n",
    "sorted_tiles"
   ]
  },
  {
   "cell_type": "code",
   "execution_count": 3,
   "metadata": {},
   "outputs": [
    {
     "data": {
      "text/plain": [
       "3057814.285714286"
      ]
     },
     "execution_count": 3,
     "metadata": {},
     "output_type": "execute_result"
    }
   ],
   "source": [
    "# sum the rewards of all the tiles that are above the hurdle\n",
    "total_reward = sum(reward for tile, reward in sorted_tiles)\n",
    "total_reward"
   ]
  },
  {
   "cell_type": "code",
   "execution_count": 4,
   "metadata": {},
   "outputs": [
    {
     "data": {
      "text/plain": [
       "339.75714285714287"
      ]
     },
     "execution_count": 4,
     "metadata": {},
     "output_type": "execute_result"
    }
   ],
   "source": [
    "rewards_per_group = total_reward / 9000 # have 3000 group each has 3 selection\n",
    "rewards_per_group"
   ]
  },
  {
   "cell_type": "markdown",
   "metadata": {},
   "source": [
    "Prove we should take all three chances"
   ]
  },
  {
   "cell_type": "markdown",
   "metadata": {},
   "source": [
    "Given K26 is the worst choice, assume only us choose K26, then the reward for K26 will be:"
   ]
  },
  {
   "cell_type": "markdown",
   "metadata": {},
   "source": [
    "12 / (2 + 1) = 4"
   ]
  },
  {
   "cell_type": "code",
   "execution_count": 5,
   "metadata": {},
   "outputs": [
    {
     "data": {
      "text/plain": [
       "[('I27', 17.25),\n",
       " ('I28', 17.0),\n",
       " ('H28', 16.75),\n",
       " ('J28', 16.25),\n",
       " ('J27', 15.75),\n",
       " ('H27', 15.5),\n",
       " ('I29', 15.5),\n",
       " ('H29', 15.0),\n",
       " ('J29', 14.75),\n",
       " ('I26', 14.25),\n",
       " ('J26', 14.25),\n",
       " ('G27', 13.5),\n",
       " ('G30', 11.0),\n",
       " ('J30', 9.75),\n",
       " ('K28', 9.0),\n",
       " ('H26', 8.75),\n",
       " ('G28', 7.25),\n",
       " ('H30', 5.75),\n",
       " ('K30', 4.5),\n",
       " ('G26', 4.0),\n",
       " ('K27', 3.75),\n",
       " ('G29', 3.25),\n",
       " ('I30', 2.25),\n",
       " ('K29', 1.75),\n",
       " ('K26', 1.0)]"
      ]
     },
     "execution_count": 5,
     "metadata": {},
     "output_type": "execute_result"
    }
   ],
   "source": [
    "OTHER_HUNTERS_CHOOSE_K26 = 9\n",
    "hurdle = 12 / (2 + 1 + OTHER_HUNTERS_CHOOSE_K26)\n",
    "\n",
    "# Calculate how many extra hunters would reduce the per hunter reward to K26 for each tile\n",
    "extra_hunters_for_six = {tile: (multiplier / 4) - hunters for tile, (multiplier, hunters) in tiles.items()}\n",
    "\n",
    "# sort the tiles by the number of extra hunters needed\n",
    "sorted_extra_hunters = sorted(extra_hunters_for_six.items(), key=lambda x: x[1], reverse=True)\n",
    "sorted_extra_hunters"
   ]
  },
  {
   "cell_type": "code",
   "execution_count": 6,
   "metadata": {},
   "outputs": [
    {
     "data": {
      "text/plain": [
       "257.75"
      ]
     },
     "execution_count": 6,
     "metadata": {},
     "output_type": "execute_result"
    }
   ],
   "source": [
    "# sum the number of extra hunters needed\n",
    "total_extra_hunters = sum(extra_hunters_for_six.values())\n",
    "total_extra_hunters"
   ]
  },
  {
   "cell_type": "code",
   "execution_count": null,
   "metadata": {},
   "outputs": [],
   "source": []
  },
  {
   "cell_type": "code",
   "execution_count": 20,
   "metadata": {},
   "outputs": [
    {
     "data": {
      "image/png": "[encoded data removed]",
      "text/plain": [
       "<Figure size 640x480 with 1 Axes>"
      ]
     },
     "metadata": {},
     "output_type": "display_data"
    },
    {
     "data": {
      "text/plain": [
       "[('I30', 76500.0), ('K29', 67500.0), ('K30', 54000.0)]"
      ]
     },
     "execution_count": 20,
     "metadata": {},
     "output_type": "execute_result"
    }
   ],
   "source": [
    "import numpy as np\n",
    "import matplotlib.pyplot as plt\n",
    "from scipy.stats import chi2\n",
    "\n",
    "# degrees of freedom for the chi-square distribution\n",
    "DF = 8\n",
    "\n",
    "# Define the total number of choices (hunters)\n",
    "total_choices = 9000\n",
    "\n",
    "# Define the number of intervals (tiles)\n",
    "intervals = 25\n",
    "\n",
    "# Create a left-skewed chi-square distribution\n",
    "# Since the chi-square distribution is right-skewed, we need to transform it.\n",
    "# One common transformation is to subtract chi-square values from a large number\n",
    "# to mirror the distribution. To maintain the scale we will later fit the distribution\n",
    "# within the range of 0 to the total number of hunters.\n",
    "max_chi_value = chi2.ppf(0.999, df=intervals)  # A high percentile for chi-square values\n",
    "\n",
    "# Generate chi-square distributed numbers and then transform them to get a left-skewed distribution\n",
    "chi_values = chi2.rvs(df=DF, size=total_choices)\n",
    "\n",
    "# Group the values into intervals to simulate the number of hunters choosing each interval (tile)\n",
    "count_per_interval = np.histogram(chi_values, bins=intervals)[0]\n",
    "\n",
    "# Calculate the expected frequency for each interval assuming each interval corresponds to a tile\n",
    "expected_frequency_per_tile = count_per_interval\n",
    "\n",
    "# Output the expected frequency per tile\n",
    "expected_frequency_per_tile\n",
    "\n",
    "# We can also visualize the distribution\n",
    "plt.bar(range(1, intervals + 1), expected_frequency_per_tile)\n",
    "plt.xlabel(f'Tile Interval (DF={DF})')\n",
    "plt.ylabel('Expected Number of Hunters')\n",
    "plt.title(f'Simulated Distribution of Hunters Choosing Tiles')\n",
    "plt.show()\n",
    "\n",
    "# The final expected frequency per tile is in the same order as the sorted_tiles from your analysis\n",
    "# sorted_tiles had the most desirable tile first, which in our simulation will have the lowest number\n",
    "# of hunters choosing it due to the left-skewness we introduced.\n",
    "\n",
    "# Map the tile labels with their expected number of hunters\n",
    "expected_hunters = {tile: freq for (tile, _), freq in zip(sorted_tiles, expected_frequency_per_tile)}\n",
    "expected_hunters\n",
    "\n",
    "# Calculate the expected reward for each tile\n",
    "expected_rewards = {}\n",
    "for tile, (multiplier, original_hunters) in tiles.items():\n",
    "    # Total hunters is the sum of the original hunters and the expected number of additional hunters\n",
    "    total_hunters = original_hunters + expected_hunters.get(tile, 0)\n",
    "    # Calculate the expected reward for the tile\n",
    "    expected_rewards[tile] = (multiplier * EXP_TREASURE) / total_hunters\n",
    "\n",
    "# Output the expected rewards per tile\n",
    "expected_rewards_sorted = sorted(expected_rewards.items(), key=lambda item: item[1], reverse=True)\n",
    "\n"
   ]
  },
  {
   "cell_type": "code",
   "execution_count": 26,
   "metadata": {},
   "outputs": [
    {
     "name": "stdout",
     "output_type": "stream",
     "text": [
      "DF=1\n",
      "['K29', 'K30', 'K27', 'I30', 'K26']\n",
      "\n",
      "\n",
      "\n",
      "DF=2\n",
      "['K29', 'K27', 'K26', 'K30', 'G29']\n",
      "\n",
      "\n",
      "\n",
      "DF=3\n",
      "['K29', 'K27', 'K26', 'K30', 'I28']\n",
      "\n",
      "\n",
      "\n",
      "DF=4\n",
      "['I30', 'K27', 'K30', 'K26', 'I28']\n",
      "\n",
      "\n",
      "\n",
      "DF=5\n",
      "['I30', 'K29', 'K27', 'K30', 'G29']\n",
      "\n",
      "\n",
      "\n",
      "DF=6\n",
      "['I30', 'K29', 'K27', 'I28', 'H30']\n",
      "\n",
      "\n",
      "\n",
      "DF=7\n",
      "['I30', 'K27', 'K29', 'K30', 'K26']\n",
      "\n",
      "\n",
      "\n",
      "DF=8\n",
      "['K27', 'I30', 'K29', 'K30', 'H30']\n",
      "\n",
      "\n",
      "\n",
      "DF=9\n",
      "['I30', 'K27', 'K29', 'K30', 'I28']\n",
      "\n",
      "\n",
      "\n",
      "DF=10\n",
      "['K29', 'K30', 'K27', 'I30', 'I28']\n",
      "\n",
      "\n",
      "\n",
      "DF=11\n",
      "['K26', 'K29', 'I30', 'K27', 'K30']\n",
      "\n",
      "\n",
      "\n",
      "DF=12\n",
      "['K30', 'K29', 'I30', 'K27', 'I28']\n",
      "\n",
      "\n",
      "\n",
      "DF=13\n",
      "['K29', 'K30', 'G29', 'I30', 'K27']\n",
      "\n",
      "\n",
      "\n",
      "DF=14\n",
      "['K27', 'H30', 'K29', 'K30', 'G29']\n",
      "\n",
      "\n",
      "\n",
      "DF=15\n",
      "['K30', 'K27', 'I30', 'K29', 'I28']\n",
      "\n",
      "\n",
      "\n",
      "DF=16\n",
      "['K29', 'K27', 'K30', 'G29', 'H30']\n",
      "\n",
      "\n",
      "\n",
      "DF=17\n",
      "['K29', 'I30', 'K26', 'K30', 'K27']\n",
      "\n",
      "\n",
      "\n",
      "DF=18\n",
      "['K30', 'K27', 'I30', 'K26', 'K29']\n",
      "\n",
      "\n",
      "\n",
      "DF=19\n",
      "['I30', 'K30', 'K27', 'K29', 'G29']\n",
      "\n",
      "\n",
      "\n"
     ]
    }
   ],
   "source": [
    "def top_n_tiles_for_chisquare_df(n, df):\n",
    "\n",
    "    # Define the total number of choices (hunters)\n",
    "    total_choices = 9000\n",
    "\n",
    "    # Define the number of intervals (tiles)\n",
    "    intervals = 25\n",
    "\n",
    "    # Create a left-skewed chi-square distribution\n",
    "    # Since the chi-square distribution is right-skewed, we need to transform it.\n",
    "    # One common transformation is to subtract chi-square values from a large number\n",
    "    # to mirror the distribution. To maintain the scale we will later fit the distribution\n",
    "    # within the range of 0 to the total number of hunters.\n",
    "    max_chi_value = chi2.ppf(0.999, df=intervals)  # A high percentile for chi-square values\n",
    "\n",
    "    # Generate chi-square distributed numbers and then transform them to get a left-skewed distribution\n",
    "    chi_values = chi2.rvs(df=DF, size=total_choices)\n",
    "\n",
    "    # Group the values into intervals to simulate the number of hunters choosing each interval (tile)\n",
    "    count_per_interval = np.histogram(chi_values, bins=intervals)[0]\n",
    "\n",
    "    # Calculate the expected frequency for each interval assuming each interval corresponds to a tile\n",
    "    expected_frequency_per_tile = count_per_interval\n",
    "\n",
    "    # Output the expected frequency per tile\n",
    "    expected_frequency_per_tile\n",
    "\n",
    "    # # We can also visualize the distribution\n",
    "    # plt.bar(range(1, intervals + 1), expected_frequency_per_tile)\n",
    "    # plt.xlabel(f'Tile Interval (DF={df})')\n",
    "    # plt.ylabel('Expected Number of Hunters')\n",
    "    # plt.title(f'Simulated Distribution of Hunters Choosing Tiles')\n",
    "    # plt.show()\n",
    "\n",
    "    # The final expected frequency per tile is in the same order as the sorted_tiles from your analysis\n",
    "    # sorted_tiles had the most desirable tile first, which in our simulation will have the lowest number\n",
    "    # of hunters choosing it due to the left-skewness we introduced.\n",
    "\n",
    "    # Map the tile labels with their expected number of hunters\n",
    "    expected_hunters = {tile: freq for (tile, _), freq in zip(sorted_tiles, expected_frequency_per_tile)}\n",
    "    expected_hunters\n",
    "\n",
    "    # Calculate the expected reward for each tile\n",
    "    expected_rewards = {}\n",
    "    for tile, (multiplier, original_hunters) in tiles.items():\n",
    "        # Total hunters is the sum of the original hunters and the expected number of additional hunters\n",
    "        total_hunters = original_hunters + expected_hunters.get(tile, 0)\n",
    "        # Calculate the expected reward for the tile\n",
    "        expected_rewards[tile] = (multiplier * EXP_TREASURE) / total_hunters\n",
    "\n",
    "    # Output the expected rewards per tile\n",
    "    expected_rewards_sorted = sorted(expected_rewards.items(), key=lambda item: item[1], reverse=True)\n",
    "    # print only the keys of top n tiles\n",
    "    print([tile for tile, reward in expected_rewards_sorted[:n]])\n",
    "\n",
    "for df in range(1, 20):\n",
    "    print(f\"DF={df}\")\n",
    "    top_n_tiles_for_chisquare_df(5, df)\n",
    "    print(\"\\n\\n\")"
   ]
  },
  {
   "cell_type": "code",
   "execution_count": null,
   "metadata": {},
   "outputs": [],
   "source": []
  }
 ],
 "metadata": {
  "kernelspec": {
   "display_name": "base",
   "language": "python",
   "name": "python3"
  },
  "language_info": {
   "codemirror_mode": {
    "name": "ipython",
    "version": 3
   },
   "file_extension": ".py",
   "mimetype": "text/x-python",
   "name": "python",
   "nbconvert_exporter": "python",
   "pygments_lexer": "ipython3",
   "version": "3.11.5"
  }
 },
 "nbformat": 4,
 "nbformat_minor": 2
}
